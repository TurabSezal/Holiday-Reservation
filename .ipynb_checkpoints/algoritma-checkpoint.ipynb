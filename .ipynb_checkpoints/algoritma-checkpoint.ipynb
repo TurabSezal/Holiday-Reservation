{
 "cells": [
  {
   "cell_type": "code",
   "execution_count": 1,
   "id": "b9773f1c",
   "metadata": {},
   "outputs": [],
   "source": [
    "class CustomerDemand:\n",
    "    def __init__(self):\n",
    "        self.count= 0\n",
    "        self.demands = []\n",
    "    def printCustomerDemand(self):\n",
    "        print('count: ',self.count)\n",
    "        print('demands: ',self.demands)\n",
    "class Warehouse:\n",
    "    def __init__(self):\n",
    "        self.capacity= 0\n",
    "        self.cost = 0.0\n",
    "    def read(self,line):\n",
    "        self.capacity= int(line[0])\n",
    "        self.cost= float(line[1])\n",
    "    def printWarehouse(self):\n",
    "        print('capacity: ',self.capacity)\n",
    "        print('cost: ',self.cost)\n",
    "\n",
    "class Model:\n",
    "    def __init__(self):\n",
    "        self.numberOfWarehouses= 0\n",
    "        self.numberOfCustomers= 0\n",
    "        self.warehouses = []\n",
    "        self.customerDemands = []\n",
    "    def read(self,line):\n",
    "        self.numberOfWarehouses= int(line[0])\n",
    "        self.numberOfCustomers= int(line[1])\n",
    "    def printModel(self):\n",
    "        print('Number Of Warehouses: ',self.numberOfWarehouses)\n",
    "        print('Number Of Customers: ',self.numberOfCustomers)\n",
    "        for warehouse in self.warehouses:\n",
    "            warehouse.printWarehouse()\n",
    "        for customerDemand in self.customerDemands:\n",
    "            customerDemand.printCustomerDemand()\n",
    "def readFile(fileName):\n",
    "    model =Model()\n",
    "    file =open(fileName , 'r')\n",
    "    line = file.readline().split()\n",
    "    model.read(line)\n",
    "    for x in range(model.numberOfWarehouses):\n",
    "        line = file.readline().split()\n",
    "        warehouse = Warehouse()\n",
    "        warehouse.read(line)\n",
    "        model.warehouses.append(warehouse)\n",
    "    for x in range(model.numberOfCustomers):\n",
    "        customerDemand= CustomerDemand()\n",
    "        customerDemand.count= int(file.readline())\n",
    "        line = file.readline().split()\n",
    "        customerDemand.demands= [float(numeric_string) for numeric_string in line];\n",
    "        model.customerDemands.append(customerDemand)\n",
    "    file.close()\n",
    "    return model\n"
   ]
  },
  {
   "cell_type": "code",
   "execution_count": 2,
   "id": "077a1d77",
   "metadata": {},
   "outputs": [
    {
     "name": "stdout",
     "output_type": "stream",
     "text": [
      "Number Of Warehouses:  3\n",
      "Number Of Customers:  4\n",
      "capacity:  100\n",
      "cost:  100.123\n",
      "capacity:  100\n",
      "cost:  100.456\n",
      "capacity:  500\n",
      "cost:  100.789\n",
      "count:  50\n",
      "demands:  [100.1, 200.2, 2000.3]\n",
      "count:  50\n",
      "demands:  [100.4, 200.5, 2000.6]\n",
      "count:  75\n",
      "demands:  [200.7, 100.8, 2000.9]\n",
      "count:  75\n",
      "demands:  [200.1, 200.11, 100.12]\n"
     ]
    }
   ],
   "source": [
    "model = readFile('wl_3_1')\n",
    "model.printModel()"
   ]
  },
  {
   "cell_type": "code",
   "execution_count": 3,
   "id": "875341de",
   "metadata": {},
   "outputs": [],
   "source": [
    "from pulp import *"
   ]
  },
  {
   "cell_type": "code",
   "execution_count": 4,
   "id": "0e977a00",
   "metadata": {},
   "outputs": [],
   "source": [
    "import csv"
   ]
  },
  {
   "cell_type": "code",
   "execution_count": 5,
   "id": "e98b2ef9",
   "metadata": {},
   "outputs": [],
   "source": [
    "# Lists (sets / Array) of Customers and Facilities\n",
    "Customer = [i+1 for i in range(model.numberOfCustomers)]\n",
    "Facility = [f\"Fac-{i+1}\" for i in range(model.numberOfWarehouses)]"
   ]
  },
  {
   "cell_type": "code",
   "execution_count": 6,
   "id": "4161b18c",
   "metadata": {},
   "outputs": [],
   "source": [
    "# Dictionaries of the demands and facilities as well as fixed cost at each facility\n",
    "Demand = {}\n",
    "for i in range(model.numberOfCustomers):\n",
    "    Demand[i+1]=model.customerDemands[i].count"
   ]
  },
  {
   "cell_type": "code",
   "execution_count": 7,
   "id": "9c29a8ba",
   "metadata": {},
   "outputs": [],
   "source": [
    "Max_Supply={}\n",
    "for i in range(model.numberOfWarehouses):\n",
    "    Max_Supply[Facility[i]]=model.warehouses[i].capacity"
   ]
  },
  {
   "cell_type": "code",
   "execution_count": 8,
   "id": "893fde25",
   "metadata": {},
   "outputs": [],
   "source": [
    "fixed_cost={}\n",
    "for i in range(model.numberOfWarehouses):\n",
    "    fixed_cost[Facility[i]]=model.warehouses[i].cost"
   ]
  },
  {
   "cell_type": "code",
   "execution_count": 9,
   "id": "1459f28b",
   "metadata": {},
   "outputs": [],
   "source": [
    "# Dictionary of the transportation cost from each facility to all the customers \n",
    "transportation_cost={}\n",
    "for i in range(model.numberOfWarehouses):\n",
    "    transportation_cost[Facility[i]]={}\n",
    "    for c in Customer:\n",
    "        transportation_cost[Facility[i]][c]=model.customerDemands[c-1].demands[i]"
   ]
  },
  {
   "cell_type": "code",
   "execution_count": 10,
   "id": "d7ac94aa",
   "metadata": {},
   "outputs": [],
   "source": [
    "# Setting the Problem\n",
    "prob = LpProblem(\"CapacitatedFacilityLocationProblem\", LpMinimize)"
   ]
  },
  {
   "cell_type": "code",
   "execution_count": 11,
   "id": "2152b0ed",
   "metadata": {},
   "outputs": [],
   "source": [
    "# Defining our Desicion Variables\n",
    "use_facility = LpVariable.dicts(\"Use Facility\", Facility, 0, 1, LpBinary)\n",
    "ser_customer = LpVariable.dicts(\"Service\", [(i,j) for i in Customer for j in Facility], 0)"
   ]
  },
  {
   "cell_type": "code",
   "execution_count": 12,
   "id": "458024d1",
   "metadata": {},
   "outputs": [],
   "source": [
    "# Setting the Objective Function\n",
    "prob += lpSum(fixed_cost[j]*use_facility[j] for j in Facility) + lpSum(transportation_cost[j][i]*ser_customer[(i,j)] for j in Facility for i in Customer)"
   ]
  },
  {
   "cell_type": "code",
   "execution_count": 13,
   "id": "16d1c634",
   "metadata": {},
   "outputs": [],
   "source": [
    "# Costraints\n",
    "for i in Customer:\n",
    "    prob += lpSum(ser_customer[(i,j)] for j in Facility) == Demand[i]"
   ]
  },
  {
   "cell_type": "code",
   "execution_count": 14,
   "id": "90d13684",
   "metadata": {},
   "outputs": [],
   "source": [
    "for j in Facility:\n",
    "    prob += lpSum(ser_customer[(i,j)] for i in Customer) <= Max_Supply[j]*use_facility[j]"
   ]
  },
  {
   "cell_type": "code",
   "execution_count": 15,
   "id": "b0cf23d9",
   "metadata": {},
   "outputs": [],
   "source": [
    "for i in Customer:\n",
    "    for j in Facility:\n",
    "        prob += ser_customer[(i,j)] <= Demand[i]*use_facility[j]"
   ]
  },
  {
   "cell_type": "code",
   "execution_count": 16,
   "id": "8eeafc92",
   "metadata": {},
   "outputs": [
    {
     "data": {
      "text/plain": [
       "1"
      ]
     },
     "execution_count": 16,
     "metadata": {},
     "output_type": "execute_result"
    }
   ],
   "source": [
    "prob.solve()"
   ]
  },
  {
   "cell_type": "code",
   "execution_count": 17,
   "id": "81f9724b",
   "metadata": {},
   "outputs": [
    {
     "name": "stdout",
     "output_type": "stream",
     "text": [
      "Solution Status =  Optimal\n"
     ]
    }
   ],
   "source": [
    "print(\"Solution Status = \", LpStatus[prob.status])"
   ]
  },
  {
   "cell_type": "code",
   "execution_count": 18,
   "id": "52bd020c",
   "metadata": {},
   "outputs": [
    {
     "name": "stdout",
     "output_type": "stream",
     "text": [
      "Estalish Facility at site =  Fac-1\n",
      "Estalish Facility at site =  Fac-2\n",
      "Estalish Facility at site =  Fac-3\n"
     ]
    }
   ],
   "source": [
    "# Print the solution of Binary Decision Variables\n",
    "Tolerance = 0.0001\n",
    "for j in Facility:\n",
    "    if use_facility[j].varValue > Tolerance:\n",
    "        print(\"Estalish Facility at site = \", j)"
   ]
  },
  {
   "cell_type": "code",
   "execution_count": 19,
   "id": "52e29db4",
   "metadata": {},
   "outputs": [
    {
     "name": "stdout",
     "output_type": "stream",
     "text": [
      "Service_(1,_'Fac_1') = 50.0\n",
      "Service_(2,_'Fac_1') = 50.0\n",
      "Service_(3,_'Fac_2') = 75.0\n",
      "Service_(4,_'Fac_3') = 75.0\n",
      "Use_Facility_Fac_1 = 1.0\n",
      "Use_Facility_Fac_2 = 1.0\n",
      "Use_Facility_Fac_3 = 1.0\n"
     ]
    }
   ],
   "source": [
    "# Print the solution of Continuous Decision Variables\n",
    "for v in prob.variables():\n",
    "    if v.varValue > 0:\n",
    "        print(v.name, \"=\", v.varValue)"
   ]
  },
  {
   "cell_type": "code",
   "execution_count": 21,
   "id": "21ce6a09",
   "metadata": {},
   "outputs": [
    {
     "name": "stdout",
     "output_type": "stream",
     "text": [
      "Total Cost =  25395.368000000002\n"
     ]
    },
    {
     "data": {
      "text/plain": [
       "100.1*Service_(1,_'Fac_1') + 200.2*Service_(1,_'Fac_2') + 2000.3*Service_(1,_'Fac_3') + 100.4*Service_(2,_'Fac_1') + 200.5*Service_(2,_'Fac_2') + 2000.6*Service_(2,_'Fac_3') + 200.7*Service_(3,_'Fac_1') + 100.8*Service_(3,_'Fac_2') + 2000.9*Service_(3,_'Fac_3') + 200.1*Service_(4,_'Fac_1') + 200.11*Service_(4,_'Fac_2') + 100.12*Service_(4,_'Fac_3') + 100.123*Use_Facility_Fac_1 + 100.456*Use_Facility_Fac_2 + 100.789*Use_Facility_Fac_3 + 0.0"
      ]
     },
     "execution_count": 21,
     "metadata": {},
     "output_type": "execute_result"
    }
   ],
   "source": [
    "# Print Optimal\n",
    "print(\"Total Cost = \", value(prob.objective))"
   ]
  }
 ],
 "metadata": {
  "kernelspec": {
   "display_name": "Python 3",
   "language": "python",
   "name": "python3"
  },
  "language_info": {
   "codemirror_mode": {
    "name": "ipython",
    "version": 3
   },
   "file_extension": ".py",
   "mimetype": "text/x-python",
   "name": "python",
   "nbconvert_exporter": "python",
   "pygments_lexer": "ipython3",
   "version": "3.8.8"
  }
 },
 "nbformat": 4,
 "nbformat_minor": 5
}
